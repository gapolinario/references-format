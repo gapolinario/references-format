{
 "cells": [
  {
   "cell_type": "code",
   "execution_count": 1,
   "metadata": {
    "collapsed": true
   },
   "outputs": [],
   "source": [
    "path=\"/home/gabriel/Github/references-format/\""
   ]
  },
  {
   "cell_type": "code",
   "execution_count": 5,
   "metadata": {},
   "outputs": [],
   "source": [
    "dicts_from_file = []\n",
    "with open(path+'bibtex_full_dict','r') as inf:\n",
    "    for line in inf:\n",
    "        dicts_from_file.append(eval(line))    \n",
    "# dicts_from_file now contains the dictionaries created from the text file"
   ]
  },
  {
   "cell_type": "code",
   "execution_count": 7,
   "metadata": {},
   "outputs": [
    {
     "data": {
      "text/plain": [
       "{'author': 'Kosterlitz, John Michael and Thouless, David James',\n",
       " 'call': 'kosterlitz1973ordering',\n",
       " 'journal': 'Journal of Physics C: Solid State Physics',\n",
       " 'number': 7,\n",
       " 'pages': 1181,\n",
       " 'publisher': 'IOP Publishing',\n",
       " 'title': 'Ordering, metastability and phase transitions in two-dimensional systems',\n",
       " 'type': 'article',\n",
       " 'volume': 6,\n",
       " 'year': 1973}"
      ]
     },
     "execution_count": 7,
     "metadata": {},
     "output_type": "execute_result"
    }
   ],
   "source": [
    "dicts_from_file[0]"
   ]
  },
  {
   "cell_type": "markdown",
   "metadata": {},
   "source": [
    "So what is the plan?\n",
    "First I have to format the article reference as a python dictionary, then it is easy to load it into a list of dictionaries.\n",
    "Then I just have to loop over this list in the appropriate manner, making differences whether the output is article or book or preprint or anything else.\n",
    "Then, changing the formatting for every instance will be the easiest thing."
   ]
  }
 ],
 "metadata": {
  "kernelspec": {
   "display_name": "Python 3",
   "language": "python",
   "name": "python3"
  },
  "language_info": {
   "codemirror_mode": {
    "name": "ipython",
    "version": 3
   },
   "file_extension": ".py",
   "mimetype": "text/x-python",
   "name": "python",
   "nbconvert_exporter": "python",
   "pygments_lexer": "ipython3",
   "version": "3.6.1"
  }
 },
 "nbformat": 4,
 "nbformat_minor": 2
}
