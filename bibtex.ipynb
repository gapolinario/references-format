{
 "cells": [
  {
   "cell_type": "code",
   "execution_count": 16,
   "metadata": {
    "collapsed": true
   },
   "outputs": [],
   "source": [
    "path=\"/home/gabriel/Github/references-format/\""
   ]
  },
  {
   "cell_type": "code",
   "execution_count": 17,
   "metadata": {
    "collapsed": true
   },
   "outputs": [],
   "source": [
    "dicts_from_file = []\n",
    "with open(path+'bibtex_dict','r') as inf:\n",
    "    for line in inf:\n",
    "        dicts_from_file.append(eval(line))    \n",
    "# dicts_from_file now contains the dictionaries created from the text file"
   ]
  },
  {
   "cell_type": "code",
   "execution_count": 18,
   "metadata": {},
   "outputs": [
    {
     "data": {
      "text/plain": [
       "[{'author': 'Kosterlitz, John Michael and Thouless, David James',\n",
       "  'call': 'kosterlitz1973ordering',\n",
       "  'journal': 'Journal of Physics C: Solid State Physics',\n",
       "  'number': 7,\n",
       "  'pages': 1181,\n",
       "  'publisher': 'IOP Publishing',\n",
       "  'title': 'Ordering, metastability and phase transitions in two-dimensional systems',\n",
       "  'type': 'article',\n",
       "  'volume': 6,\n",
       "  'year': 1973},\n",
       " {'author': 'Young, A.P.',\n",
       "  'call': 'young1979melting',\n",
       "  'journal': 'Physical Review B',\n",
       "  'number': 4,\n",
       "  'pages': 1855,\n",
       "  'publisher': 'APS',\n",
       "  'title': 'Melting and the vector Coulomb gas in two dimensions',\n",
       "  'type': 'article',\n",
       "  'volume': 19,\n",
       "  'year': 1979},\n",
       " {'author': 'Glauber, Roy J',\n",
       "  'call': 'glauber1963time',\n",
       "  'journal': 'Journal of mathematical physics',\n",
       "  'number': 2,\n",
       "  'pages': '294',\n",
       "  'publisher': 'AIP',\n",
       "  'title': 'Time-dependent statistics of the Ising model',\n",
       "  'type': 'article',\n",
       "  'volume': 4,\n",
       "  'year': 1963}]"
      ]
     },
     "execution_count": 18,
     "metadata": {},
     "output_type": "execute_result"
    }
   ],
   "source": [
    "dicts_from_file"
   ]
  },
  {
   "cell_type": "markdown",
   "metadata": {},
   "source": [
    "So what is the plan?\n",
    "First I have to format the article reference as a python dictionary, then it is easy to load it into a list of dictionaries.\n",
    "Then I just have to loop over this list in the appropriate manner, making differences whether the output is article or book or preprint or anything else.\n",
    "Then, changing the formatting for every instance will be the easiest thing.\n",
    "\n",
    "Not the EASIEST thing\n",
    "\n",
    "Title of books is in bold\n",
    "Year of articles is between parentheses ( ## )\n",
    "Number of journal is in bold {\\bf ##}\n",
    "Journal name must be abbreviated\n",
    "Title of article does not usually appear, only in math journals\n",
    "Author list will be the complicated problem, this will require some intensive pattern matching\n",
    "\n",
    "Join it all in a big string and append to a file."
   ]
  },
  {
   "cell_type": "code",
   "execution_count": 45,
   "metadata": {},
   "outputs": [],
   "source": [
    "string=\"\"\n",
    "for entry in dicts_from_file:\n",
    "    if entry['type']==\"article\":\n",
    "        string = string+\"@article{\"+entry['call']+\",\\n\"+\\\n",
    "        \"\\tauthor={\"+entry['author']+\"},\\n\"+\\\n",
    "        \"\\tjournal={\"+entry['journal']+\"},\\n\"+\\\n",
    "        \"\\tvolume={\\\\textbf{\"+str(entry['volume'])+\"}},\\n\"+\\\n",
    "        \"\\tnumber={\"+str(entry['number'])+\"},\\n\"+\\\n",
    "        \"\\tpages={\"+str(entry['pages'])+\"},\\n\"+\\\n",
    "        \"\\tyear={\"+str(entry['year'])+\"}\"+\\\n",
    "        \"}\\n\\n\"\n",
    "    if entry['type']==\"book\":\n",
    "        string=string+\" book replacement \""
   ]
  },
  {
   "cell_type": "code",
   "execution_count": 46,
   "metadata": {},
   "outputs": [
    {
     "name": "stdout",
     "output_type": "stream",
     "text": [
      "@article{kosterlitz1973ordering,\n",
      "\tauthor={Kosterlitz, John Michael and Thouless, David James},\n",
      "\tjournal={Journal of Physics C: Solid State Physics},\n",
      "\tvolume={\\textbf{6}},\n",
      "\tnumber={7},\n",
      "\tpages={1181},\n",
      "\tyear={1973}}\n",
      "\n",
      "@article{young1979melting,\n",
      "\tauthor={Young, A.P.},\n",
      "\tjournal={Physical Review B},\n",
      "\tvolume={\\textbf{19}},\n",
      "\tnumber={4},\n",
      "\tpages={1855},\n",
      "\tyear={1979}}\n",
      "\n",
      "@article{glauber1963time,\n",
      "\tauthor={Glauber, Roy J},\n",
      "\tjournal={Journal of mathematical physics},\n",
      "\tvolume={\\textbf{4}},\n",
      "\tnumber={2},\n",
      "\tpages={294},\n",
      "\tyear={1963}}\n",
      "\n",
      "\n"
     ]
    }
   ],
   "source": [
    "print(string)"
   ]
  },
  {
   "cell_type": "code",
   "execution_count": null,
   "metadata": {
    "collapsed": true
   },
   "outputs": [],
   "source": [
    "Template for book and article is here:\n",
    "\n",
    "@book{Barabasi,\n",
    "  title={{\\it{Fractal Concepts in Surface Growth}}},\n",
    "  author={Barab{\\'a}si A L and Stanley H E},\n",
    "  publisher={Cambridge University Press},\n",
    "  year={1995},\n",
    "}\n",
    "\n",
    "@article{bigDNS,\n",
    "  title={Energy dissipation rate and energy spectrum in high resolution direct numerical simulations of turbulence in a periodic box},\n",
    "  author={Kaneda, Yukio and Ishihara, Takashi and Yokokawa, Mitsuo and Itakura, Ken'ichi and Uno, Atsuya},\n",
    "  journal={Physics of Fluids},\n",
    "  volume={\\textbf{15}},\n",
    "  number={2},\n",
    "  pages={L21},\n",
    "  year={2003},\n",
    "  publisher={Woodbury, NY: American Institute of Physics, c1994-}\n",
    "}\n"
   ]
  },
  {
   "cell_type": "code",
   "execution_count": 47,
   "metadata": {
    "collapsed": true
   },
   "outputs": [],
   "source": [
    "with open(\"bibl.bib\", \"w\") as file:\n",
    "    file.write(string)"
   ]
  },
  {
   "cell_type": "code",
   "execution_count": null,
   "metadata": {
    "collapsed": true
   },
   "outputs": [],
   "source": []
  }
 ],
 "metadata": {
  "kernelspec": {
   "display_name": "Python 3",
   "language": "python",
   "name": "python3"
  },
  "language_info": {
   "codemirror_mode": {
    "name": "ipython",
    "version": 3
   },
   "file_extension": ".py",
   "mimetype": "text/x-python",
   "name": "python",
   "nbconvert_exporter": "python",
   "pygments_lexer": "ipython3",
   "version": "3.6.1"
  }
 },
 "nbformat": 4,
 "nbformat_minor": 2
}
