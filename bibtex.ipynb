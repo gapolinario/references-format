{
 "cells": [
  {
   "cell_type": "code",
   "execution_count": 1,
   "metadata": {
    "collapsed": true
   },
   "outputs": [],
   "source": [
    "path=\"/home/gabriel/Github/references-format/\""
   ]
  },
  {
   "cell_type": "code",
   "execution_count": 2,
   "metadata": {
    "collapsed": true
   },
   "outputs": [],
   "source": [
    "dicts_from_file = []\n",
    "with open(path+'bibtex_full_dict','r') as inf:\n",
    "    for line in inf:\n",
    "        dicts_from_file.append(eval(line))    \n",
    "# dicts_from_file now contains the dictionaries created from the text file"
   ]
  },
  {
   "cell_type": "code",
   "execution_count": 5,
   "metadata": {},
   "outputs": [
    {
     "data": {
      "text/plain": [
       "{'author': 'Glauber, Roy J',\n",
       " 'call': 'glauber1963time',\n",
       " 'journal': 'Journal of mathematical physics',\n",
       " 'number': 2,\n",
       " 'pages': '294--307',\n",
       " 'publisher': 'AIP',\n",
       " 'title': 'Time-dependent statistics of the Ising model',\n",
       " 'type': 'article',\n",
       " 'volume': 4,\n",
       " 'year': 1963}"
      ]
     },
     "execution_count": 5,
     "metadata": {},
     "output_type": "execute_result"
    }
   ],
   "source": [
    "dicts_from_file[2]"
   ]
  },
  {
   "cell_type": "markdown",
   "metadata": {},
   "source": [
    "So what is the plan?\n",
    "First I have to format the article reference as a python dictionary, then it is easy to load it into a list of dictionaries.\n",
    "Then I just have to loop over this list in the appropriate manner, making differences whether the output is article or book or preprint or anything else.\n",
    "Then, changing the formatting for every instance will be the easiest thing.\n",
    "\n",
    "Not the EASIEST thing\n",
    "\n",
    "Title of books is in bold\n",
    "Year of articles is between parentheses ( ## )\n",
    "Number of journal is in bold {\\bf ##}\n",
    "Journal name must be abbreviated\n",
    "Title of article does not usually appear, only in math journals\n",
    "Author list will be the complicated problem, this will require some intensive pattern matching\n",
    "\n",
    "Join it all in a big string and append to a file."
   ]
  },
  {
   "cell_type": "code",
   "execution_count": 18,
   "metadata": {},
   "outputs": [],
   "source": [
    "string=\"\"\n",
    "for entry in dicts_from_file:\n",
    "    if entry['type']==\"article\":\n",
    "        string = string+\"@article{\"+entry['call']+\", author={\"+entry['author']+\"}\"+\"\\n\""
   ]
  },
  {
   "cell_type": "code",
   "execution_count": 17,
   "metadata": {},
   "outputs": [
    {
     "name": "stdout",
     "output_type": "stream",
     "text": [
      "@article{kosterlitz1973ordering, author={Kosterlitz, John Michael and Thouless, David James}\n",
      "@article{young1979melting, author={Young, A.P.}\n",
      "@article{glauber1963time, author={Glauber, Roy J}\n",
      "\n"
     ]
    }
   ],
   "source": [
    "print(string)"
   ]
  },
  {
   "cell_type": "code",
   "execution_count": null,
   "metadata": {
    "collapsed": true
   },
   "outputs": [],
   "source": []
  }
 ],
 "metadata": {
  "kernelspec": {
   "display_name": "Python 3",
   "language": "python",
   "name": "python3"
  },
  "language_info": {
   "codemirror_mode": {
    "name": "ipython",
    "version": 3
   },
   "file_extension": ".py",
   "mimetype": "text/x-python",
   "name": "python",
   "nbconvert_exporter": "python",
   "pygments_lexer": "ipython3",
   "version": "3.6.1"
  }
 },
 "nbformat": 4,
 "nbformat_minor": 2
}
